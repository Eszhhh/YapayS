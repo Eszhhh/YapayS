{
  "cells": [
    {
      "cell_type": "code",
      "source": [
        "import torch\n",
        "\n",
        "# Seed değeri ayarı\n",
        "torch.manual_seed(1)\n",
        "\n",
        "# Veri seti\n",
        "X = torch.tensor([[1, 2, 3],\n",
        "                  [4, 5, 6]], dtype=torch.float32)\n",
        "\n",
        "# Model yapısı\n",
        "input_size = X.shape[1]\n",
        "hidden_size = 50\n",
        "output_size = 1\n",
        "\n",
        "hidden_layer = torch.nn.Linear(input_size, hidden_size)\n",
        "output_layer = torch.nn.Linear(hidden_size, output_size)\n",
        "\n",
        "# Aktivasyon fonksiyonları\n",
        "def tanh(x):\n",
        "    return (torch.exp(x) - torch.exp(-x)) / (torch.exp(x) + torch.exp(-x))\n",
        "\n",
        "def sigmoid(x):\n",
        "    return 1 / (1 + torch.exp(-x))\n",
        "\n",
        "# Model tanımı\n",
        "class MyModel(torch.nn.Module):\n",
        "    def __init__(self):\n",
        "        super().__init__()\n",
        "        self.hidden_layer = hidden_layer\n",
        "        self.output_layer = output_layer\n",
        "\n",
        "    def forward(self, x):\n",
        "        x = self.hidden_layer(x)\n",
        "        x = tanh(x)\n",
        "        x = self.output_layer(x)\n",
        "        x = sigmoid(x)\n",
        "        return x\n",
        "\n",
        "# Model örneği\n",
        "model = MyModel()\n",
        "\n",
        "# Model çıktısı\n",
        "output = model(X)\n",
        "\n",
        "# Model bilgileri\n",
        "print(output)"
      ],
      "metadata": {
        "colab": {
          "base_uri": "https://localhost:8080/"
        },
        "id": "krOsc5QDIkUm",
        "outputId": "db72c019-e929-4513-9cdf-fbe060bb4a3b"
      },
      "execution_count": 1,
      "outputs": [
        {
          "output_type": "stream",
          "name": "stdout",
          "text": [
            "tensor([[0.4892],\n",
            "        [0.5566]], grad_fn=<MulBackward0>)\n"
          ]
        }
      ]
    },
    {
      "cell_type": "code",
      "source": [
        "import torch\n",
        "\n",
        "# Seed değeri ayarı\n",
        "torch.manual_seed(190401099)\n",
        "\n",
        "# Veri seti\n",
        "X = torch.tensor([[1, 2, 3],\n",
        "                  [4, 5, 6]], dtype=torch.float32)\n",
        "\n",
        "# Model yapısı\n",
        "input_size = X.shape[1]\n",
        "hidden_size = 50\n",
        "output_size = 1\n",
        "\n",
        "hidden_layer = torch.nn.Linear(input_size, hidden_size)\n",
        "output_layer = torch.nn.Linear(hidden_size, output_size)\n",
        "\n",
        "# Aktivasyon fonksiyonları\n",
        "def tanh(x):\n",
        "    return (torch.exp(x) - torch.exp(-x)) / (torch.exp(x) + torch.exp(-x))\n",
        "\n",
        "def sigmoid(x):\n",
        "    return 1 / (1 + torch.exp(-x))\n",
        "\n",
        "# Model tanımı\n",
        "class MyModel(torch.nn.Module):\n",
        "    def __init__(self):\n",
        "        super().__init__()\n",
        "        self.hidden_layer = hidden_layer\n",
        "        self.output_layer = output_layer\n",
        "\n",
        "    def forward(self, x):\n",
        "        x = self.hidden_layer(x)\n",
        "        x = tanh(x)\n",
        "        x = self.output_layer(x)\n",
        "        x = sigmoid(x)\n",
        "        return x\n",
        "\n",
        "# Model örneği\n",
        "model = MyModel()\n",
        "\n",
        "# Model çıktısı\n",
        "output = model(X)\n",
        "\n",
        "# Model bilgileri\n",
        "print(output)"
      ],
      "metadata": {
        "colab": {
          "base_uri": "https://localhost:8080/"
        },
        "id": "kg1TdeXiIxto",
        "outputId": "b75fcca9-1350-4f27-ef95-36ac380443e7"
      },
      "execution_count": 2,
      "outputs": [
        {
          "output_type": "stream",
          "name": "stdout",
          "text": [
            "tensor([[0.5460],\n",
            "        [0.4944]], grad_fn=<MulBackward0>)\n"
          ]
        }
      ]
    }
  ],
  "metadata": {
    "colab": {
      "name": "Colaboratory'ye Hoş Geldiniz",
      "toc_visible": true,
      "provenance": []
    },
    "kernelspec": {
      "display_name": "Python 3",
      "name": "python3"
    }
  },
  "nbformat": 4,
  "nbformat_minor": 0
}